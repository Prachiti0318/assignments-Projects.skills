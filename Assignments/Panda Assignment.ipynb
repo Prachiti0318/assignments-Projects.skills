{
 "cells": [
  {
   "cell_type": "code",
   "execution_count": 6,
   "id": "c0590f17",
   "metadata": {},
   "outputs": [
    {
     "name": "stdout",
     "output_type": "stream",
     "text": [
      "0     4\n",
      "1     8\n",
      "2    15\n",
      "3    16\n",
      "4    23\n",
      "5    42\n",
      "dtype: int64\n"
     ]
    }
   ],
   "source": [
    "#Q1. Create a Pandas Series that contains the following data: 4, 8, 15, 16, 23, and 42. Then, print the series.\n",
    "\n",
    "import pandas as pd\n",
    "data = [4, 8, 15, 16, 23, 42]\n",
    "series = pd.Series(data)\n",
    "print(series)\n"
   ]
  },
  {
   "cell_type": "markdown",
   "id": "a750acf1",
   "metadata": {},
   "source": [
    "Q2. Create a variable of list type containing 10 elements in it, and apply pandas.Series function on the\n",
    "variable print it."
   ]
  },
  {
   "cell_type": "code",
   "execution_count": 7,
   "id": "8e7e760e",
   "metadata": {},
   "outputs": [
    {
     "name": "stdout",
     "output_type": "stream",
     "text": [
      "0     10\n",
      "1     20\n",
      "2     30\n",
      "3     40\n",
      "4     50\n",
      "5     60\n",
      "6     70\n",
      "7     80\n",
      "8     90\n",
      "9    100\n",
      "dtype: int64\n"
     ]
    }
   ],
   "source": [
    "import pandas as pd\n",
    "\n",
    "my_list = [10, 20, 30, 40, 50, 60, 70, 80, 90, 100]\n",
    "\n",
    "series = pd.Series(my_list)\n",
    "\n",
    "print(series)\n"
   ]
  },
  {
   "cell_type": "markdown",
   "id": "a318cb49",
   "metadata": {},
   "source": [
    "Q3. Create a Pandas DataFrame that contains the following data:"
   ]
  },
  {
   "cell_type": "code",
   "execution_count": 8,
   "id": "6d8e58c2",
   "metadata": {},
   "outputs": [
    {
     "name": "stdout",
     "output_type": "stream",
     "text": [
      "     Name  Age  Gender\n",
      "0   Alice   25  Female\n",
      "1     Bob   30    Male\n",
      "2  Claire   27  Female\n"
     ]
    }
   ],
   "source": [
    "import pandas as pd\n",
    "data = {\n",
    "    'Name': ['Alice', 'Bob', 'Claire'],\n",
    "    'Age': [25, 30, 27],\n",
    "    'Gender': ['Female', 'Male', 'Female']\n",
    "}\n",
    "\n",
    "df1 = pd.DataFrame(data)\n",
    "\n",
    "# Print the DataFrame\n",
    "print(df1)\n"
   ]
  },
  {
   "cell_type": "markdown",
   "id": "b1950430",
   "metadata": {},
   "source": [
    "Q4. What is ‘DataFrame’ in pandas and how is it different from pandas.series? Explain with an example.\n",
    "\n",
    "==> Data Frame:\n",
    "    A DataFrame in pandas is a 2-dimensional, tabular data structure that consists of rows and columns, similar to a spreadsheet or SQL table. It can store data of different types (integers, strings, floats, etc.) in different columns.\n",
    "    \n",
    "    Series:\n",
    "    A Series is a 1-dimensional labeled array, which can hold any data type. It’s essentially a single column of data.\n",
    "\n",
    "\n"
   ]
  },
  {
   "cell_type": "code",
   "execution_count": 9,
   "id": "d006bfe8",
   "metadata": {},
   "outputs": [
    {
     "name": "stdout",
     "output_type": "stream",
     "text": [
      "Series:\n",
      "0    10\n",
      "1    20\n",
      "2    30\n",
      "dtype: int64\n",
      "\n",
      "DataFrame:\n",
      "     Name  Age  Gender\n",
      "0   Alice   25  Female\n",
      "1     Bob   30    Male\n",
      "2  Claire   27  Female\n"
     ]
    }
   ],
   "source": [
    "#Example:\n",
    "import pandas as pd\n",
    "\n",
    "#Series\n",
    "s = pd.Series([10, 20, 30])\n",
    "print(\"Series:\")\n",
    "print(s)\n",
    "\n",
    "#DataFrame\n",
    "df = pd.DataFrame({\n",
    "    'Name': ['Alice', 'Bob', 'Claire'],\n",
    "    'Age': [25, 30, 27],\n",
    "    'Gender': ['Female', 'Male', 'Female']\n",
    "})\n",
    "print(\"\\nDataFrame:\")\n",
    "print(df)\n"
   ]
  },
  {
   "cell_type": "markdown",
   "id": "b97a1b09",
   "metadata": {},
   "source": [
    "Q5. What are some common functions you can use to manipulate data in a Pandas DataFrame? Can\n",
    "you give an example of when you might use one of these functions?\n",
    "\n",
    "==> df.head(n):\n",
    "\tReturns the first n rows of the DataFrame (default is 5). Useful to preview data.\n",
    "\n",
    "    df.tail(n):\n",
    "\tReturns the last n rows of the DataFrame.\n",
    "\n",
    "    df.info():\n",
    "\tProvides a concise summary of the DataFrame (column names, data types, non-null counts).\n",
    "\n",
    "    df.dtypes:\n",
    "\tShows data types of each column.\n",
    "\n",
    "    df.columns:\n",
    "\tLists all column names.\n",
    "\n",
    "    "
   ]
  },
  {
   "cell_type": "code",
   "execution_count": 10,
   "id": "cd6ef242",
   "metadata": {},
   "outputs": [
    {
     "name": "stdout",
     "output_type": "stream",
     "text": [
      "Head (First 3 rows):\n",
      "     Name  Age  Gender\n",
      "0   Alice   25  Female\n",
      "1     Bob   30    Male\n",
      "2  Claire   27  Female\n",
      "\n",
      "Tail (Last 2 rows):\n",
      "    Name  Age  Gender\n",
      "4    Eva   29  Female\n",
      "5  Frank   35    Male\n"
     ]
    }
   ],
   "source": [
    "import pandas as pd\n",
    "df = pd.DataFrame({\n",
    "    'Name': ['Alice', 'Bob', 'Claire', 'David', 'Eva', 'Frank'],\n",
    "    'Age': [25, 30, 27, 22, 29, 35],\n",
    "    'Gender': ['Female', 'Male', 'Female', 'Male', 'Female', 'Male']\n",
    "})\n",
    "\n",
    "# View the first 3 rows\n",
    "print(\"Head (First 3 rows):\")\n",
    "print(df.head(3))\n",
    "\n",
    "# View the last 2 rows\n",
    "print(\"\\nTail (Last 2 rows):\")\n",
    "print(df.tail(2))\n"
   ]
  },
  {
   "cell_type": "markdown",
   "id": "03db89f1",
   "metadata": {},
   "source": [
    "Q6. Which of the following is mutable in nature Series, DataFrame, Panel?\n",
    "\n",
    "In pandas, all three of these container types are mutable—you can change their contents in place\n",
    "\n",
    "#Series:\n",
    "You can update individual elements.\n",
    "\n",
    "#DataFrame\n",
    "You can add/drop columns or modify cells.\n",
    "\n",
    "#Panel:\n",
    "Panels were also mutable—you could reassign slices or elements.\n",
    "\n"
   ]
  },
  {
   "cell_type": "markdown",
   "id": "5fdcdd9a",
   "metadata": {},
   "source": [
    "Q7. Create a DataFrame using multiple Series. Explain with an example."
   ]
  },
  {
   "cell_type": "code",
   "execution_count": 11,
   "id": "0ace8d16",
   "metadata": {},
   "outputs": [
    {
     "name": "stdout",
     "output_type": "stream",
     "text": [
      "     Name  Age\n",
      "0   Alice   25\n",
      "1     Bob   30\n",
      "2  Claire   27\n"
     ]
    }
   ],
   "source": [
    "import pandas as pd\n",
    "\n",
    "# Create two Series\n",
    "names = pd.Series(['Alice', 'Bob', 'Claire'], name='Name')\n",
    "ages  = pd.Series([25, 30, 27],          name='Age')\n",
    "\n",
    "#DataFrame\n",
    "df = pd.DataFrame({ 'Name': names,\n",
    "                    'Age' : ages })\n",
    "\n",
    "print(df)\n"
   ]
  }
 ],
 "metadata": {
  "kernelspec": {
   "display_name": "Python 3",
   "language": "python",
   "name": "python3"
  },
  "language_info": {
   "codemirror_mode": {
    "name": "ipython",
    "version": 3
   },
   "file_extension": ".py",
   "mimetype": "text/x-python",
   "name": "python",
   "nbconvert_exporter": "python",
   "pygments_lexer": "ipython3",
   "version": "3.9.5"
  }
 },
 "nbformat": 4,
 "nbformat_minor": 5
}
